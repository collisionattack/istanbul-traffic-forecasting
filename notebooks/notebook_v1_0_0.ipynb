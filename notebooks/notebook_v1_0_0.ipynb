{
  "nbformat": 4,
  "nbformat_minor": 0,
  "metadata": {
    "colab": {
      "provenance": [],
      "authorship_tag": "ABX9TyNr1ZJnu9Zc2FiP86OwYDBN",
      "include_colab_link": true
    },
    "kernelspec": {
      "name": "python3",
      "display_name": "Python 3"
    },
    "language_info": {
      "name": "python"
    }
  },
  "cells": [
    {
      "cell_type": "markdown",
      "metadata": {
        "id": "view-in-github",
        "colab_type": "text"
      },
      "source": [
        "<a href=\"https://colab.research.google.com/github/collisionattack/istanbul-traffic-forecasting/blob/main/notebooks/notebook_v1_0_0.ipynb\" target=\"_parent\"><img src=\"https://colab.research.google.com/assets/colab-badge.svg\" alt=\"Open In Colab\"/></a>"
      ]
    },
    {
      "cell_type": "markdown",
      "source": [
        "## 1. Reading the Data"
      ],
      "metadata": {
        "id": "f9G0rrq8CAy3"
      }
    },
    {
      "cell_type": "code",
      "execution_count": null,
      "metadata": {
        "id": "dkkqTZgQ_NLw"
      },
      "outputs": [],
      "source": [
        "import requests\n",
        "import pandas as pd\n",
        "\n",
        "def fetch_traffic_batches(resource_id: str, batch_size: int = 1000):\n",
        "    \"\"\"\n",
        "    Generator that yields pandas.DataFrame chunks of traffic data.\n",
        "\n",
        "    :param resource_id: CKAN resource UUID for the Istanbul traffic index.\n",
        "    :param batch_size:  Number of rows to fetch per HTTP request.\n",
        "    \"\"\"\n",
        "    BASE_URL = \"https://data.ibb.gov.tr/api/3/action/datastore_search\"\n",
        "    offset   = 0\n",
        "\n",
        "    while True:\n",
        "        params = {\n",
        "            \"resource_id\": resource_id,\n",
        "            \"limit\":      batch_size,\n",
        "            \"offset\":     offset\n",
        "        }\n",
        "        resp = requests.get(BASE_URL, params=params)\n",
        "        resp.raise_for_status()\n",
        "        records = resp.json()[\"result\"][\"records\"]\n",
        "\n",
        "        if not records:\n",
        "            break\n",
        "\n",
        "        df_chunk = pd.DataFrame(records)\n",
        "        df_chunk[\"trafficindexdate\"] = pd.to_datetime(df_chunk[\"trafficindexdate\"])\n",
        "\n",
        "        yield df_chunk\n",
        "\n",
        "        offset += batch_size"
      ]
    },
    {
      "cell_type": "code",
      "source": [
        "RESOURCE_ID = \"ba47eacb-a4e1-441c-ae51-0e622d4a18e2\"\n",
        "\n",
        "for i, batch_df in enumerate(fetch_traffic_batches(RESOURCE_ID, batch_size=500)):\n",
        "    print(f\"Processing batch {i+1} with {len(batch_df)} rows\")\n",
        "    # — e.g., do preprocessing, feature extraction, model training on this batch\n",
        "    # batch_df.to_parquet(f\"data/batch_{i+1}.parquet\")  # or append to a database\n"
      ],
      "metadata": {
        "colab": {
          "base_uri": "https://localhost:8080/"
        },
        "id": "ZgGfef9x_Vyw",
        "outputId": "c85ac8a1-d2cb-417b-8127-72ca0213ee08"
      },
      "execution_count": null,
      "outputs": [
        {
          "output_type": "stream",
          "name": "stdout",
          "text": [
            "Processing batch 1 with 500 rows\n",
            "Processing batch 2 with 500 rows\n",
            "Processing batch 3 with 500 rows\n",
            "Processing batch 4 with 500 rows\n",
            "Processing batch 5 with 500 rows\n",
            "Processing batch 6 with 500 rows\n",
            "Processing batch 7 with 332 rows\n"
          ]
        }
      ]
    },
    {
      "cell_type": "markdown",
      "source": [
        "## 2. EDA Section"
      ],
      "metadata": {
        "id": "ZNm0EyMkCHPM"
      }
    },
    {
      "cell_type": "code",
      "source": [
        "# Getting the first batch\n",
        "batch_gen = fetch_traffic_batches(RESOURCE_ID, batch_size=500)\n",
        "first_batch = next(batch_gen)"
      ],
      "metadata": {
        "id": "CWYPrhzDCJVk"
      },
      "execution_count": null,
      "outputs": []
    },
    {
      "cell_type": "code",
      "source": [
        "first_batch.head()"
      ],
      "metadata": {
        "colab": {
          "base_uri": "https://localhost:8080/",
          "height": 206
        },
        "id": "qnHeDbOCCdIS",
        "outputId": "5b07eb81-21f8-4594-dfb4-b1ba7911f0aa"
      },
      "execution_count": null,
      "outputs": [
        {
          "output_type": "execute_result",
          "data": {
            "text/plain": [
              "   _id    trafficindexdate  minimum_traffic_index  maximum_traffic_index  \\\n",
              "0    1 2015-08-06 03:00:00                     24                     63   \n",
              "1    2 2015-08-07 03:00:00                      2                     49   \n",
              "2    3 2015-08-11 03:00:00                     11                     62   \n",
              "3    4 2015-08-12 03:00:00                      1                     63   \n",
              "4    5 2015-08-13 03:00:00                      2                     56   \n",
              "\n",
              "   average_traffic_index  \n",
              "0              57.858116  \n",
              "1              23.770492  \n",
              "2              38.601266  \n",
              "3              29.715278  \n",
              "4              28.557491  "
            ],
            "text/html": [
              "\n",
              "  <div id=\"df-0d27f1f4-d40a-4c16-9c96-c4f77bb6e31b\" class=\"colab-df-container\">\n",
              "    <div>\n",
              "<style scoped>\n",
              "    .dataframe tbody tr th:only-of-type {\n",
              "        vertical-align: middle;\n",
              "    }\n",
              "\n",
              "    .dataframe tbody tr th {\n",
              "        vertical-align: top;\n",
              "    }\n",
              "\n",
              "    .dataframe thead th {\n",
              "        text-align: right;\n",
              "    }\n",
              "</style>\n",
              "<table border=\"1\" class=\"dataframe\">\n",
              "  <thead>\n",
              "    <tr style=\"text-align: right;\">\n",
              "      <th></th>\n",
              "      <th>_id</th>\n",
              "      <th>trafficindexdate</th>\n",
              "      <th>minimum_traffic_index</th>\n",
              "      <th>maximum_traffic_index</th>\n",
              "      <th>average_traffic_index</th>\n",
              "    </tr>\n",
              "  </thead>\n",
              "  <tbody>\n",
              "    <tr>\n",
              "      <th>0</th>\n",
              "      <td>1</td>\n",
              "      <td>2015-08-06 03:00:00</td>\n",
              "      <td>24</td>\n",
              "      <td>63</td>\n",
              "      <td>57.858116</td>\n",
              "    </tr>\n",
              "    <tr>\n",
              "      <th>1</th>\n",
              "      <td>2</td>\n",
              "      <td>2015-08-07 03:00:00</td>\n",
              "      <td>2</td>\n",
              "      <td>49</td>\n",
              "      <td>23.770492</td>\n",
              "    </tr>\n",
              "    <tr>\n",
              "      <th>2</th>\n",
              "      <td>3</td>\n",
              "      <td>2015-08-11 03:00:00</td>\n",
              "      <td>11</td>\n",
              "      <td>62</td>\n",
              "      <td>38.601266</td>\n",
              "    </tr>\n",
              "    <tr>\n",
              "      <th>3</th>\n",
              "      <td>4</td>\n",
              "      <td>2015-08-12 03:00:00</td>\n",
              "      <td>1</td>\n",
              "      <td>63</td>\n",
              "      <td>29.715278</td>\n",
              "    </tr>\n",
              "    <tr>\n",
              "      <th>4</th>\n",
              "      <td>5</td>\n",
              "      <td>2015-08-13 03:00:00</td>\n",
              "      <td>2</td>\n",
              "      <td>56</td>\n",
              "      <td>28.557491</td>\n",
              "    </tr>\n",
              "  </tbody>\n",
              "</table>\n",
              "</div>\n",
              "    <div class=\"colab-df-buttons\">\n",
              "\n",
              "  <div class=\"colab-df-container\">\n",
              "    <button class=\"colab-df-convert\" onclick=\"convertToInteractive('df-0d27f1f4-d40a-4c16-9c96-c4f77bb6e31b')\"\n",
              "            title=\"Convert this dataframe to an interactive table.\"\n",
              "            style=\"display:none;\">\n",
              "\n",
              "  <svg xmlns=\"http://www.w3.org/2000/svg\" height=\"24px\" viewBox=\"0 -960 960 960\">\n",
              "    <path d=\"M120-120v-720h720v720H120Zm60-500h600v-160H180v160Zm220 220h160v-160H400v160Zm0 220h160v-160H400v160ZM180-400h160v-160H180v160Zm440 0h160v-160H620v160ZM180-180h160v-160H180v160Zm440 0h160v-160H620v160Z\"/>\n",
              "  </svg>\n",
              "    </button>\n",
              "\n",
              "  <style>\n",
              "    .colab-df-container {\n",
              "      display:flex;\n",
              "      gap: 12px;\n",
              "    }\n",
              "\n",
              "    .colab-df-convert {\n",
              "      background-color: #E8F0FE;\n",
              "      border: none;\n",
              "      border-radius: 50%;\n",
              "      cursor: pointer;\n",
              "      display: none;\n",
              "      fill: #1967D2;\n",
              "      height: 32px;\n",
              "      padding: 0 0 0 0;\n",
              "      width: 32px;\n",
              "    }\n",
              "\n",
              "    .colab-df-convert:hover {\n",
              "      background-color: #E2EBFA;\n",
              "      box-shadow: 0px 1px 2px rgba(60, 64, 67, 0.3), 0px 1px 3px 1px rgba(60, 64, 67, 0.15);\n",
              "      fill: #174EA6;\n",
              "    }\n",
              "\n",
              "    .colab-df-buttons div {\n",
              "      margin-bottom: 4px;\n",
              "    }\n",
              "\n",
              "    [theme=dark] .colab-df-convert {\n",
              "      background-color: #3B4455;\n",
              "      fill: #D2E3FC;\n",
              "    }\n",
              "\n",
              "    [theme=dark] .colab-df-convert:hover {\n",
              "      background-color: #434B5C;\n",
              "      box-shadow: 0px 1px 3px 1px rgba(0, 0, 0, 0.15);\n",
              "      filter: drop-shadow(0px 1px 2px rgba(0, 0, 0, 0.3));\n",
              "      fill: #FFFFFF;\n",
              "    }\n",
              "  </style>\n",
              "\n",
              "    <script>\n",
              "      const buttonEl =\n",
              "        document.querySelector('#df-0d27f1f4-d40a-4c16-9c96-c4f77bb6e31b button.colab-df-convert');\n",
              "      buttonEl.style.display =\n",
              "        google.colab.kernel.accessAllowed ? 'block' : 'none';\n",
              "\n",
              "      async function convertToInteractive(key) {\n",
              "        const element = document.querySelector('#df-0d27f1f4-d40a-4c16-9c96-c4f77bb6e31b');\n",
              "        const dataTable =\n",
              "          await google.colab.kernel.invokeFunction('convertToInteractive',\n",
              "                                                    [key], {});\n",
              "        if (!dataTable) return;\n",
              "\n",
              "        const docLinkHtml = 'Like what you see? Visit the ' +\n",
              "          '<a target=\"_blank\" href=https://colab.research.google.com/notebooks/data_table.ipynb>data table notebook</a>'\n",
              "          + ' to learn more about interactive tables.';\n",
              "        element.innerHTML = '';\n",
              "        dataTable['output_type'] = 'display_data';\n",
              "        await google.colab.output.renderOutput(dataTable, element);\n",
              "        const docLink = document.createElement('div');\n",
              "        docLink.innerHTML = docLinkHtml;\n",
              "        element.appendChild(docLink);\n",
              "      }\n",
              "    </script>\n",
              "  </div>\n",
              "\n",
              "\n",
              "    <div id=\"df-69f4fe8c-4311-4a11-8add-37646d1d8d41\">\n",
              "      <button class=\"colab-df-quickchart\" onclick=\"quickchart('df-69f4fe8c-4311-4a11-8add-37646d1d8d41')\"\n",
              "                title=\"Suggest charts\"\n",
              "                style=\"display:none;\">\n",
              "\n",
              "<svg xmlns=\"http://www.w3.org/2000/svg\" height=\"24px\"viewBox=\"0 0 24 24\"\n",
              "     width=\"24px\">\n",
              "    <g>\n",
              "        <path d=\"M19 3H5c-1.1 0-2 .9-2 2v14c0 1.1.9 2 2 2h14c1.1 0 2-.9 2-2V5c0-1.1-.9-2-2-2zM9 17H7v-7h2v7zm4 0h-2V7h2v10zm4 0h-2v-4h2v4z\"/>\n",
              "    </g>\n",
              "</svg>\n",
              "      </button>\n",
              "\n",
              "<style>\n",
              "  .colab-df-quickchart {\n",
              "      --bg-color: #E8F0FE;\n",
              "      --fill-color: #1967D2;\n",
              "      --hover-bg-color: #E2EBFA;\n",
              "      --hover-fill-color: #174EA6;\n",
              "      --disabled-fill-color: #AAA;\n",
              "      --disabled-bg-color: #DDD;\n",
              "  }\n",
              "\n",
              "  [theme=dark] .colab-df-quickchart {\n",
              "      --bg-color: #3B4455;\n",
              "      --fill-color: #D2E3FC;\n",
              "      --hover-bg-color: #434B5C;\n",
              "      --hover-fill-color: #FFFFFF;\n",
              "      --disabled-bg-color: #3B4455;\n",
              "      --disabled-fill-color: #666;\n",
              "  }\n",
              "\n",
              "  .colab-df-quickchart {\n",
              "    background-color: var(--bg-color);\n",
              "    border: none;\n",
              "    border-radius: 50%;\n",
              "    cursor: pointer;\n",
              "    display: none;\n",
              "    fill: var(--fill-color);\n",
              "    height: 32px;\n",
              "    padding: 0;\n",
              "    width: 32px;\n",
              "  }\n",
              "\n",
              "  .colab-df-quickchart:hover {\n",
              "    background-color: var(--hover-bg-color);\n",
              "    box-shadow: 0 1px 2px rgba(60, 64, 67, 0.3), 0 1px 3px 1px rgba(60, 64, 67, 0.15);\n",
              "    fill: var(--button-hover-fill-color);\n",
              "  }\n",
              "\n",
              "  .colab-df-quickchart-complete:disabled,\n",
              "  .colab-df-quickchart-complete:disabled:hover {\n",
              "    background-color: var(--disabled-bg-color);\n",
              "    fill: var(--disabled-fill-color);\n",
              "    box-shadow: none;\n",
              "  }\n",
              "\n",
              "  .colab-df-spinner {\n",
              "    border: 2px solid var(--fill-color);\n",
              "    border-color: transparent;\n",
              "    border-bottom-color: var(--fill-color);\n",
              "    animation:\n",
              "      spin 1s steps(1) infinite;\n",
              "  }\n",
              "\n",
              "  @keyframes spin {\n",
              "    0% {\n",
              "      border-color: transparent;\n",
              "      border-bottom-color: var(--fill-color);\n",
              "      border-left-color: var(--fill-color);\n",
              "    }\n",
              "    20% {\n",
              "      border-color: transparent;\n",
              "      border-left-color: var(--fill-color);\n",
              "      border-top-color: var(--fill-color);\n",
              "    }\n",
              "    30% {\n",
              "      border-color: transparent;\n",
              "      border-left-color: var(--fill-color);\n",
              "      border-top-color: var(--fill-color);\n",
              "      border-right-color: var(--fill-color);\n",
              "    }\n",
              "    40% {\n",
              "      border-color: transparent;\n",
              "      border-right-color: var(--fill-color);\n",
              "      border-top-color: var(--fill-color);\n",
              "    }\n",
              "    60% {\n",
              "      border-color: transparent;\n",
              "      border-right-color: var(--fill-color);\n",
              "    }\n",
              "    80% {\n",
              "      border-color: transparent;\n",
              "      border-right-color: var(--fill-color);\n",
              "      border-bottom-color: var(--fill-color);\n",
              "    }\n",
              "    90% {\n",
              "      border-color: transparent;\n",
              "      border-bottom-color: var(--fill-color);\n",
              "    }\n",
              "  }\n",
              "</style>\n",
              "\n",
              "      <script>\n",
              "        async function quickchart(key) {\n",
              "          const quickchartButtonEl =\n",
              "            document.querySelector('#' + key + ' button');\n",
              "          quickchartButtonEl.disabled = true;  // To prevent multiple clicks.\n",
              "          quickchartButtonEl.classList.add('colab-df-spinner');\n",
              "          try {\n",
              "            const charts = await google.colab.kernel.invokeFunction(\n",
              "                'suggestCharts', [key], {});\n",
              "          } catch (error) {\n",
              "            console.error('Error during call to suggestCharts:', error);\n",
              "          }\n",
              "          quickchartButtonEl.classList.remove('colab-df-spinner');\n",
              "          quickchartButtonEl.classList.add('colab-df-quickchart-complete');\n",
              "        }\n",
              "        (() => {\n",
              "          let quickchartButtonEl =\n",
              "            document.querySelector('#df-69f4fe8c-4311-4a11-8add-37646d1d8d41 button');\n",
              "          quickchartButtonEl.style.display =\n",
              "            google.colab.kernel.accessAllowed ? 'block' : 'none';\n",
              "        })();\n",
              "      </script>\n",
              "    </div>\n",
              "\n",
              "    </div>\n",
              "  </div>\n"
            ],
            "application/vnd.google.colaboratory.intrinsic+json": {
              "type": "dataframe",
              "variable_name": "first_batch",
              "summary": "{\n  \"name\": \"first_batch\",\n  \"rows\": 500,\n  \"fields\": [\n    {\n      \"column\": \"_id\",\n      \"properties\": {\n        \"dtype\": \"number\",\n        \"std\": 144,\n        \"min\": 1,\n        \"max\": 500,\n        \"num_unique_values\": 500,\n        \"samples\": [\n          362,\n          74,\n          375\n        ],\n        \"semantic_type\": \"\",\n        \"description\": \"\"\n      }\n    },\n    {\n      \"column\": \"trafficindexdate\",\n      \"properties\": {\n        \"dtype\": \"date\",\n        \"min\": \"2015-08-06 03:00:00\",\n        \"max\": \"2017-01-06 03:00:00\",\n        \"num_unique_values\": 500,\n        \"samples\": [\n          \"2016-08-21 03:00:00\",\n          \"2015-10-21 03:00:00\",\n          \"2016-09-03 03:00:00\"\n        ],\n        \"semantic_type\": \"\",\n        \"description\": \"\"\n      }\n    },\n    {\n      \"column\": \"minimum_traffic_index\",\n      \"properties\": {\n        \"dtype\": \"number\",\n        \"std\": 4,\n        \"min\": 1,\n        \"max\": 58,\n        \"num_unique_values\": 15,\n        \"samples\": [\n          5,\n          13,\n          24\n        ],\n        \"semantic_type\": \"\",\n        \"description\": \"\"\n      }\n    },\n    {\n      \"column\": \"maximum_traffic_index\",\n      \"properties\": {\n        \"dtype\": \"number\",\n        \"std\": 14,\n        \"min\": 13,\n        \"max\": 90,\n        \"num_unique_values\": 46,\n        \"samples\": [\n          18,\n          90,\n          44\n        ],\n        \"semantic_type\": \"\",\n        \"description\": \"\"\n      }\n    },\n    {\n      \"column\": \"average_traffic_index\",\n      \"properties\": {\n        \"dtype\": \"number\",\n        \"std\": 8.463088721453696,\n        \"min\": 4.680555555555555,\n        \"max\": 59.42857142857143,\n        \"num_unique_values\": 495,\n        \"samples\": [\n          18.94097222222222,\n          37.7007299270073,\n          8.91637630662021\n        ],\n        \"semantic_type\": \"\",\n        \"description\": \"\"\n      }\n    }\n  ]\n}"
            }
          },
          "metadata": {},
          "execution_count": 11
        }
      ]
    },
    {
      "cell_type": "code",
      "source": [
        "first_batch.info()"
      ],
      "metadata": {
        "colab": {
          "base_uri": "https://localhost:8080/"
        },
        "id": "gM9RyxTsCJ_C",
        "outputId": "b8cf43c6-5622-4e02-9a7b-51ba8a189b25"
      },
      "execution_count": null,
      "outputs": [
        {
          "output_type": "stream",
          "name": "stdout",
          "text": [
            "<class 'pandas.core.frame.DataFrame'>\n",
            "RangeIndex: 500 entries, 0 to 499\n",
            "Data columns (total 5 columns):\n",
            " #   Column                 Non-Null Count  Dtype         \n",
            "---  ------                 --------------  -----         \n",
            " 0   _id                    500 non-null    int64         \n",
            " 1   trafficindexdate       500 non-null    datetime64[ns]\n",
            " 2   minimum_traffic_index  500 non-null    int64         \n",
            " 3   maximum_traffic_index  500 non-null    int64         \n",
            " 4   average_traffic_index  500 non-null    float64       \n",
            "dtypes: datetime64[ns](1), float64(1), int64(3)\n",
            "memory usage: 19.7 KB\n"
          ]
        }
      ]
    },
    {
      "cell_type": "code",
      "source": [
        "first_batch.describe()"
      ],
      "metadata": {
        "colab": {
          "base_uri": "https://localhost:8080/",
          "height": 300
        },
        "id": "_qFgeW17CWWu",
        "outputId": "66407ce6-e02a-4211-8adc-b23ea86809a2"
      },
      "execution_count": null,
      "outputs": [
        {
          "output_type": "execute_result",
          "data": {
            "text/plain": [
              "              _id            trafficindexdate  minimum_traffic_index  \\\n",
              "count  500.000000                         500             500.000000   \n",
              "mean   250.500000  2016-04-23 22:01:40.800000               2.452000   \n",
              "min      1.000000         2015-08-06 03:00:00               1.000000   \n",
              "25%    125.750000         2015-12-11 20:00:00               1.000000   \n",
              "50%    250.500000         2016-05-01 15:00:00               1.000000   \n",
              "75%    375.250000         2016-09-03 09:00:00               2.000000   \n",
              "max    500.000000         2017-01-06 03:00:00              58.000000   \n",
              "std    144.481833                         NaN               4.172591   \n",
              "\n",
              "       maximum_traffic_index  average_traffic_index  \n",
              "count             500.000000             500.000000  \n",
              "mean               65.182000              30.307443  \n",
              "min                13.000000               4.680556  \n",
              "25%                60.000000              26.257716  \n",
              "50%                69.000000              31.389295  \n",
              "75%                74.000000              36.294216  \n",
              "max                90.000000              59.428571  \n",
              "std                14.620273               8.463089  "
            ],
            "text/html": [
              "\n",
              "  <div id=\"df-5ec5e1e3-6847-4ffb-a8c1-25b064956f53\" class=\"colab-df-container\">\n",
              "    <div>\n",
              "<style scoped>\n",
              "    .dataframe tbody tr th:only-of-type {\n",
              "        vertical-align: middle;\n",
              "    }\n",
              "\n",
              "    .dataframe tbody tr th {\n",
              "        vertical-align: top;\n",
              "    }\n",
              "\n",
              "    .dataframe thead th {\n",
              "        text-align: right;\n",
              "    }\n",
              "</style>\n",
              "<table border=\"1\" class=\"dataframe\">\n",
              "  <thead>\n",
              "    <tr style=\"text-align: right;\">\n",
              "      <th></th>\n",
              "      <th>_id</th>\n",
              "      <th>trafficindexdate</th>\n",
              "      <th>minimum_traffic_index</th>\n",
              "      <th>maximum_traffic_index</th>\n",
              "      <th>average_traffic_index</th>\n",
              "    </tr>\n",
              "  </thead>\n",
              "  <tbody>\n",
              "    <tr>\n",
              "      <th>count</th>\n",
              "      <td>500.000000</td>\n",
              "      <td>500</td>\n",
              "      <td>500.000000</td>\n",
              "      <td>500.000000</td>\n",
              "      <td>500.000000</td>\n",
              "    </tr>\n",
              "    <tr>\n",
              "      <th>mean</th>\n",
              "      <td>250.500000</td>\n",
              "      <td>2016-04-23 22:01:40.800000</td>\n",
              "      <td>2.452000</td>\n",
              "      <td>65.182000</td>\n",
              "      <td>30.307443</td>\n",
              "    </tr>\n",
              "    <tr>\n",
              "      <th>min</th>\n",
              "      <td>1.000000</td>\n",
              "      <td>2015-08-06 03:00:00</td>\n",
              "      <td>1.000000</td>\n",
              "      <td>13.000000</td>\n",
              "      <td>4.680556</td>\n",
              "    </tr>\n",
              "    <tr>\n",
              "      <th>25%</th>\n",
              "      <td>125.750000</td>\n",
              "      <td>2015-12-11 20:00:00</td>\n",
              "      <td>1.000000</td>\n",
              "      <td>60.000000</td>\n",
              "      <td>26.257716</td>\n",
              "    </tr>\n",
              "    <tr>\n",
              "      <th>50%</th>\n",
              "      <td>250.500000</td>\n",
              "      <td>2016-05-01 15:00:00</td>\n",
              "      <td>1.000000</td>\n",
              "      <td>69.000000</td>\n",
              "      <td>31.389295</td>\n",
              "    </tr>\n",
              "    <tr>\n",
              "      <th>75%</th>\n",
              "      <td>375.250000</td>\n",
              "      <td>2016-09-03 09:00:00</td>\n",
              "      <td>2.000000</td>\n",
              "      <td>74.000000</td>\n",
              "      <td>36.294216</td>\n",
              "    </tr>\n",
              "    <tr>\n",
              "      <th>max</th>\n",
              "      <td>500.000000</td>\n",
              "      <td>2017-01-06 03:00:00</td>\n",
              "      <td>58.000000</td>\n",
              "      <td>90.000000</td>\n",
              "      <td>59.428571</td>\n",
              "    </tr>\n",
              "    <tr>\n",
              "      <th>std</th>\n",
              "      <td>144.481833</td>\n",
              "      <td>NaN</td>\n",
              "      <td>4.172591</td>\n",
              "      <td>14.620273</td>\n",
              "      <td>8.463089</td>\n",
              "    </tr>\n",
              "  </tbody>\n",
              "</table>\n",
              "</div>\n",
              "    <div class=\"colab-df-buttons\">\n",
              "\n",
              "  <div class=\"colab-df-container\">\n",
              "    <button class=\"colab-df-convert\" onclick=\"convertToInteractive('df-5ec5e1e3-6847-4ffb-a8c1-25b064956f53')\"\n",
              "            title=\"Convert this dataframe to an interactive table.\"\n",
              "            style=\"display:none;\">\n",
              "\n",
              "  <svg xmlns=\"http://www.w3.org/2000/svg\" height=\"24px\" viewBox=\"0 -960 960 960\">\n",
              "    <path d=\"M120-120v-720h720v720H120Zm60-500h600v-160H180v160Zm220 220h160v-160H400v160Zm0 220h160v-160H400v160ZM180-400h160v-160H180v160Zm440 0h160v-160H620v160ZM180-180h160v-160H180v160Zm440 0h160v-160H620v160Z\"/>\n",
              "  </svg>\n",
              "    </button>\n",
              "\n",
              "  <style>\n",
              "    .colab-df-container {\n",
              "      display:flex;\n",
              "      gap: 12px;\n",
              "    }\n",
              "\n",
              "    .colab-df-convert {\n",
              "      background-color: #E8F0FE;\n",
              "      border: none;\n",
              "      border-radius: 50%;\n",
              "      cursor: pointer;\n",
              "      display: none;\n",
              "      fill: #1967D2;\n",
              "      height: 32px;\n",
              "      padding: 0 0 0 0;\n",
              "      width: 32px;\n",
              "    }\n",
              "\n",
              "    .colab-df-convert:hover {\n",
              "      background-color: #E2EBFA;\n",
              "      box-shadow: 0px 1px 2px rgba(60, 64, 67, 0.3), 0px 1px 3px 1px rgba(60, 64, 67, 0.15);\n",
              "      fill: #174EA6;\n",
              "    }\n",
              "\n",
              "    .colab-df-buttons div {\n",
              "      margin-bottom: 4px;\n",
              "    }\n",
              "\n",
              "    [theme=dark] .colab-df-convert {\n",
              "      background-color: #3B4455;\n",
              "      fill: #D2E3FC;\n",
              "    }\n",
              "\n",
              "    [theme=dark] .colab-df-convert:hover {\n",
              "      background-color: #434B5C;\n",
              "      box-shadow: 0px 1px 3px 1px rgba(0, 0, 0, 0.15);\n",
              "      filter: drop-shadow(0px 1px 2px rgba(0, 0, 0, 0.3));\n",
              "      fill: #FFFFFF;\n",
              "    }\n",
              "  </style>\n",
              "\n",
              "    <script>\n",
              "      const buttonEl =\n",
              "        document.querySelector('#df-5ec5e1e3-6847-4ffb-a8c1-25b064956f53 button.colab-df-convert');\n",
              "      buttonEl.style.display =\n",
              "        google.colab.kernel.accessAllowed ? 'block' : 'none';\n",
              "\n",
              "      async function convertToInteractive(key) {\n",
              "        const element = document.querySelector('#df-5ec5e1e3-6847-4ffb-a8c1-25b064956f53');\n",
              "        const dataTable =\n",
              "          await google.colab.kernel.invokeFunction('convertToInteractive',\n",
              "                                                    [key], {});\n",
              "        if (!dataTable) return;\n",
              "\n",
              "        const docLinkHtml = 'Like what you see? Visit the ' +\n",
              "          '<a target=\"_blank\" href=https://colab.research.google.com/notebooks/data_table.ipynb>data table notebook</a>'\n",
              "          + ' to learn more about interactive tables.';\n",
              "        element.innerHTML = '';\n",
              "        dataTable['output_type'] = 'display_data';\n",
              "        await google.colab.output.renderOutput(dataTable, element);\n",
              "        const docLink = document.createElement('div');\n",
              "        docLink.innerHTML = docLinkHtml;\n",
              "        element.appendChild(docLink);\n",
              "      }\n",
              "    </script>\n",
              "  </div>\n",
              "\n",
              "\n",
              "    <div id=\"df-584d36a7-4cf7-41b0-a7f5-67033d3a768e\">\n",
              "      <button class=\"colab-df-quickchart\" onclick=\"quickchart('df-584d36a7-4cf7-41b0-a7f5-67033d3a768e')\"\n",
              "                title=\"Suggest charts\"\n",
              "                style=\"display:none;\">\n",
              "\n",
              "<svg xmlns=\"http://www.w3.org/2000/svg\" height=\"24px\"viewBox=\"0 0 24 24\"\n",
              "     width=\"24px\">\n",
              "    <g>\n",
              "        <path d=\"M19 3H5c-1.1 0-2 .9-2 2v14c0 1.1.9 2 2 2h14c1.1 0 2-.9 2-2V5c0-1.1-.9-2-2-2zM9 17H7v-7h2v7zm4 0h-2V7h2v10zm4 0h-2v-4h2v4z\"/>\n",
              "    </g>\n",
              "</svg>\n",
              "      </button>\n",
              "\n",
              "<style>\n",
              "  .colab-df-quickchart {\n",
              "      --bg-color: #E8F0FE;\n",
              "      --fill-color: #1967D2;\n",
              "      --hover-bg-color: #E2EBFA;\n",
              "      --hover-fill-color: #174EA6;\n",
              "      --disabled-fill-color: #AAA;\n",
              "      --disabled-bg-color: #DDD;\n",
              "  }\n",
              "\n",
              "  [theme=dark] .colab-df-quickchart {\n",
              "      --bg-color: #3B4455;\n",
              "      --fill-color: #D2E3FC;\n",
              "      --hover-bg-color: #434B5C;\n",
              "      --hover-fill-color: #FFFFFF;\n",
              "      --disabled-bg-color: #3B4455;\n",
              "      --disabled-fill-color: #666;\n",
              "  }\n",
              "\n",
              "  .colab-df-quickchart {\n",
              "    background-color: var(--bg-color);\n",
              "    border: none;\n",
              "    border-radius: 50%;\n",
              "    cursor: pointer;\n",
              "    display: none;\n",
              "    fill: var(--fill-color);\n",
              "    height: 32px;\n",
              "    padding: 0;\n",
              "    width: 32px;\n",
              "  }\n",
              "\n",
              "  .colab-df-quickchart:hover {\n",
              "    background-color: var(--hover-bg-color);\n",
              "    box-shadow: 0 1px 2px rgba(60, 64, 67, 0.3), 0 1px 3px 1px rgba(60, 64, 67, 0.15);\n",
              "    fill: var(--button-hover-fill-color);\n",
              "  }\n",
              "\n",
              "  .colab-df-quickchart-complete:disabled,\n",
              "  .colab-df-quickchart-complete:disabled:hover {\n",
              "    background-color: var(--disabled-bg-color);\n",
              "    fill: var(--disabled-fill-color);\n",
              "    box-shadow: none;\n",
              "  }\n",
              "\n",
              "  .colab-df-spinner {\n",
              "    border: 2px solid var(--fill-color);\n",
              "    border-color: transparent;\n",
              "    border-bottom-color: var(--fill-color);\n",
              "    animation:\n",
              "      spin 1s steps(1) infinite;\n",
              "  }\n",
              "\n",
              "  @keyframes spin {\n",
              "    0% {\n",
              "      border-color: transparent;\n",
              "      border-bottom-color: var(--fill-color);\n",
              "      border-left-color: var(--fill-color);\n",
              "    }\n",
              "    20% {\n",
              "      border-color: transparent;\n",
              "      border-left-color: var(--fill-color);\n",
              "      border-top-color: var(--fill-color);\n",
              "    }\n",
              "    30% {\n",
              "      border-color: transparent;\n",
              "      border-left-color: var(--fill-color);\n",
              "      border-top-color: var(--fill-color);\n",
              "      border-right-color: var(--fill-color);\n",
              "    }\n",
              "    40% {\n",
              "      border-color: transparent;\n",
              "      border-right-color: var(--fill-color);\n",
              "      border-top-color: var(--fill-color);\n",
              "    }\n",
              "    60% {\n",
              "      border-color: transparent;\n",
              "      border-right-color: var(--fill-color);\n",
              "    }\n",
              "    80% {\n",
              "      border-color: transparent;\n",
              "      border-right-color: var(--fill-color);\n",
              "      border-bottom-color: var(--fill-color);\n",
              "    }\n",
              "    90% {\n",
              "      border-color: transparent;\n",
              "      border-bottom-color: var(--fill-color);\n",
              "    }\n",
              "  }\n",
              "</style>\n",
              "\n",
              "      <script>\n",
              "        async function quickchart(key) {\n",
              "          const quickchartButtonEl =\n",
              "            document.querySelector('#' + key + ' button');\n",
              "          quickchartButtonEl.disabled = true;  // To prevent multiple clicks.\n",
              "          quickchartButtonEl.classList.add('colab-df-spinner');\n",
              "          try {\n",
              "            const charts = await google.colab.kernel.invokeFunction(\n",
              "                'suggestCharts', [key], {});\n",
              "          } catch (error) {\n",
              "            console.error('Error during call to suggestCharts:', error);\n",
              "          }\n",
              "          quickchartButtonEl.classList.remove('colab-df-spinner');\n",
              "          quickchartButtonEl.classList.add('colab-df-quickchart-complete');\n",
              "        }\n",
              "        (() => {\n",
              "          let quickchartButtonEl =\n",
              "            document.querySelector('#df-584d36a7-4cf7-41b0-a7f5-67033d3a768e button');\n",
              "          quickchartButtonEl.style.display =\n",
              "            google.colab.kernel.accessAllowed ? 'block' : 'none';\n",
              "        })();\n",
              "      </script>\n",
              "    </div>\n",
              "\n",
              "    </div>\n",
              "  </div>\n"
            ],
            "application/vnd.google.colaboratory.intrinsic+json": {
              "type": "dataframe",
              "summary": "{\n  \"name\": \"first_batch\",\n  \"rows\": 8,\n  \"fields\": [\n    {\n      \"column\": \"_id\",\n      \"properties\": {\n        \"dtype\": \"number\",\n        \"std\": 179.8977277873755,\n        \"min\": 1.0,\n        \"max\": 500.0,\n        \"num_unique_values\": 6,\n        \"samples\": [\n          500.0,\n          250.5,\n          144.4818327679989\n        ],\n        \"semantic_type\": \"\",\n        \"description\": \"\"\n      }\n    },\n    {\n      \"column\": \"trafficindexdate\",\n      \"properties\": {\n        \"dtype\": \"date\",\n        \"min\": \"1970-01-01 00:00:00.000000500\",\n        \"max\": \"2017-01-06 03:00:00\",\n        \"num_unique_values\": 7,\n        \"samples\": [\n          \"500\",\n          \"2016-04-23 22:01:40.800000\",\n          \"2016-09-03 09:00:00\"\n        ],\n        \"semantic_type\": \"\",\n        \"description\": \"\"\n      }\n    },\n    {\n      \"column\": \"minimum_traffic_index\",\n      \"properties\": {\n        \"dtype\": \"number\",\n        \"std\": 174.37045988497428,\n        \"min\": 1.0,\n        \"max\": 500.0,\n        \"num_unique_values\": 6,\n        \"samples\": [\n          500.0,\n          2.452,\n          4.172591165459205\n        ],\n        \"semantic_type\": \"\",\n        \"description\": \"\"\n      }\n    },\n    {\n      \"column\": \"maximum_traffic_index\",\n      \"properties\": {\n        \"dtype\": \"number\",\n        \"std\": 159.68170892754472,\n        \"min\": 13.0,\n        \"max\": 500.0,\n        \"num_unique_values\": 8,\n        \"samples\": [\n          65.182,\n          74.0,\n          500.0\n        ],\n        \"semantic_type\": \"\",\n        \"description\": \"\"\n      }\n    },\n    {\n      \"column\": \"average_traffic_index\",\n      \"properties\": {\n        \"dtype\": \"number\",\n        \"std\": 167.69058875135698,\n        \"min\": 4.680555555555555,\n        \"max\": 500.0,\n        \"num_unique_values\": 8,\n        \"samples\": [\n          30.307443373734756,\n          36.294216008771926,\n          500.0\n        ],\n        \"semantic_type\": \"\",\n        \"description\": \"\"\n      }\n    }\n  ]\n}"
            }
          },
          "metadata": {},
          "execution_count": 10
        }
      ]
    },
    {
      "cell_type": "code",
      "source": [
        "# Checking the total of NaN values\n",
        "first_batch.isna().sum()"
      ],
      "metadata": {
        "colab": {
          "base_uri": "https://localhost:8080/",
          "height": 241
        },
        "id": "9NbLBOqkCZxe",
        "outputId": "97b82371-dd92-4c2f-860d-91dcffe6b613"
      },
      "execution_count": null,
      "outputs": [
        {
          "output_type": "execute_result",
          "data": {
            "text/plain": [
              "_id                      0\n",
              "trafficindexdate         0\n",
              "minimum_traffic_index    0\n",
              "maximum_traffic_index    0\n",
              "average_traffic_index    0\n",
              "dtype: int64"
            ],
            "text/html": [
              "<div>\n",
              "<style scoped>\n",
              "    .dataframe tbody tr th:only-of-type {\n",
              "        vertical-align: middle;\n",
              "    }\n",
              "\n",
              "    .dataframe tbody tr th {\n",
              "        vertical-align: top;\n",
              "    }\n",
              "\n",
              "    .dataframe thead th {\n",
              "        text-align: right;\n",
              "    }\n",
              "</style>\n",
              "<table border=\"1\" class=\"dataframe\">\n",
              "  <thead>\n",
              "    <tr style=\"text-align: right;\">\n",
              "      <th></th>\n",
              "      <th>0</th>\n",
              "    </tr>\n",
              "  </thead>\n",
              "  <tbody>\n",
              "    <tr>\n",
              "      <th>_id</th>\n",
              "      <td>0</td>\n",
              "    </tr>\n",
              "    <tr>\n",
              "      <th>trafficindexdate</th>\n",
              "      <td>0</td>\n",
              "    </tr>\n",
              "    <tr>\n",
              "      <th>minimum_traffic_index</th>\n",
              "      <td>0</td>\n",
              "    </tr>\n",
              "    <tr>\n",
              "      <th>maximum_traffic_index</th>\n",
              "      <td>0</td>\n",
              "    </tr>\n",
              "    <tr>\n",
              "      <th>average_traffic_index</th>\n",
              "      <td>0</td>\n",
              "    </tr>\n",
              "  </tbody>\n",
              "</table>\n",
              "</div><br><label><b>dtype:</b> int64</label>"
            ]
          },
          "metadata": {},
          "execution_count": 12
        }
      ]
    },
    {
      "cell_type": "code",
      "source": [
        "# First visual inspection\n",
        "import matplotlib.pyplot as plt\n",
        "\n",
        "first_batch_sorted = first_batch.sort_values(\"trafficindexdate\")\n",
        "plt.figure(figsize=(15, 5))\n",
        "plt.plot(first_batch_sorted[\"trafficindexdate\"], first_batch_sorted[\"average_traffic_index\"])\n",
        "plt.title(\"Average Traffic Index – First Batch\")\n",
        "plt.xlabel(\"Date\")\n",
        "plt.ylabel(\"Traffic Index\")\n",
        "plt.show()"
      ],
      "metadata": {
        "colab": {
          "base_uri": "https://localhost:8080/",
          "height": 507
        },
        "id": "i1z47bLcClPp",
        "outputId": "66d2c1b0-ade7-4791-97cc-705e0306c1c9"
      },
      "execution_count": null,
      "outputs": [
        {
          "output_type": "display_data",
          "data": {
            "text/plain": [
              "<Figure size 1500x500 with 1 Axes>"
            ],
            "image/png": "[encoded data removed]"
          },
          "metadata": {}
        }
      ]
    },
    {
      "cell_type": "markdown",
      "source": [
        "### 2a. Batch Inspection"
      ],
      "metadata": {
        "id": "uvik1PiFDt5F"
      }
    },
    {
      "cell_type": "code",
      "source": [
        "# Filling the gaps for consistency\n",
        "first_batch = first_batch.set_index(\"trafficindexdate\").asfreq(\"D\")"
      ],
      "metadata": {
        "id": "ppOaiYT5CzGs"
      },
      "execution_count": null,
      "outputs": []
    },
    {
      "cell_type": "code",
      "source": [
        "# Imputing missing values for some of the time gaps\n",
        "first_batch[\"minimum_traffic_index\"] = first_batch[\"minimum_traffic_index\"].ffill().bfill()\n",
        "first_batch[\"maximum_traffic_index\"] = first_batch[\"maximum_traffic_index\"].ffill().bfill()\n",
        "first_batch[\"average_traffic_index\"] = first_batch[\"average_traffic_index\"].interpolate()"
      ],
      "metadata": {
        "id": "Ht9H5LvkFI2r"
      },
      "execution_count": null,
      "outputs": []
    },
    {
      "cell_type": "code",
      "source": [
        "# Feature engineering part-1\n",
        "first_batch[\"day_of_week\"] = first_batch.index.dayofweek\n",
        "first_batch[\"month\"] = first_batch.index.month\n",
        "first_batch[\"is_weekend\"] = (first_batch[\"day_of_week\"] >= 5).astype(int)"
      ],
      "metadata": {
        "id": "oWb4cACwFZm2"
      },
      "execution_count": null,
      "outputs": []
    },
    {
      "cell_type": "code",
      "source": [
        "# Feature engineering part-2 -> Lags for temporal learning\n",
        "for lag in [1, 2, 7]:\n",
        "    first_batch[f\"lag_{lag}\"] = first_batch[\"average_traffic_index\"].shift(lag)"
      ],
      "metadata": {
        "id": "hXKZgSrrFkt4"
      },
      "execution_count": null,
      "outputs": []
    },
    {
      "cell_type": "code",
      "source": [
        "# Feature engineering part-3 -> Rolling average (trend)\n",
        "first_batch[\"rolling_mean_7\"] = first_batch[\"average_traffic_index\"].rolling(7).mean()"
      ],
      "metadata": {
        "id": "nH0XX585FzW3"
      },
      "execution_count": null,
      "outputs": []
    },
    {
      "cell_type": "code",
      "source": [
        "# Feature engineering part-4 -> Drop rows with NaNs from lags/rolling\n",
        "first_batch = first_batch.dropna()"
      ],
      "metadata": {
        "id": "BR5AYPRJF3mL"
      },
      "execution_count": null,
      "outputs": []
    },
    {
      "cell_type": "markdown",
      "source": [
        "## 2b. Data Split"
      ],
      "metadata": {
        "id": "H0AxZazbLD6S"
      }
    },
    {
      "cell_type": "code",
      "source": [
        "from sklearn.model_selection import TimeSeriesSplit\n",
        "from sklearn.preprocessing import StandardScaler\n",
        "from sklearn.linear_model import LinearRegression\n",
        "from sklearn.metrics import mean_absolute_error"
      ],
      "metadata": {
        "id": "4jZlbDx8LCuK"
      },
      "execution_count": null,
      "outputs": []
    },
    {
      "cell_type": "code",
      "source": [
        "df = first_batch.copy()"
      ],
      "metadata": {
        "id": "NVQK-S0EF-Wt"
      },
      "execution_count": null,
      "outputs": []
    },
    {
      "cell_type": "code",
      "source": [
        "# Defining features and target\n",
        "TARGET   = \"average_traffic_index\"\n",
        "FEATURES = [c for c in df.columns if c != TARGET]"
      ],
      "metadata": {
        "id": "r0kcKp6PMaZ2"
      },
      "execution_count": null,
      "outputs": []
    },
    {
      "cell_type": "code",
      "source": [
        "# Reserve final 15% as hold-out test\n",
        "n = len(df)\n",
        "test_start = int(n * 0.85)\n",
        "df_trainval = df.iloc[:test_start]\n",
        "df_test = df.iloc[test_start:]"
      ],
      "metadata": {
        "id": "gF1xJg72Mgml"
      },
      "execution_count": null,
      "outputs": []
    },
    {
      "cell_type": "code",
      "source": [
        "print(f\"Total of train and val: {len(df_trainval)} rows,  Test : {len(df_test)} rows\")"
      ],
      "metadata": {
        "colab": {
          "base_uri": "https://localhost:8080/"
        },
        "id": "Mz_SSSFmMlg4",
        "outputId": "b5f767a2-834d-457d-cc4f-dc3de5f66439"
      },
      "execution_count": null,
      "outputs": [
        {
          "output_type": "stream",
          "name": "stdout",
          "text": [
            "Total of train and val: 307 rows,  Test : 55 rows\n"
          ]
        }
      ]
    },
    {
      "cell_type": "code",
      "source": [
        "# Rolling‐window CV on train and val\n",
        "tscv = TimeSeriesSplit(n_splits=5)\n",
        "for fold, (train_idx, val_idx) in enumerate(tscv.split(df_trainval), 1):\n",
        "    X_tr = df_trainval.iloc[train_idx][FEATURES]\n",
        "    y_tr = df_trainval.iloc[train_idx][TARGET]\n",
        "    X_vl = df_trainval.iloc[val_idx][FEATURES]\n",
        "    y_vl = df_trainval.iloc[val_idx][TARGET]\n",
        "\n",
        "    # Scaling on train only\n",
        "    scaler = StandardScaler().fit(X_tr)\n",
        "    X_tr_scl = scaler.transform(X_tr)\n",
        "    X_vl_scl = scaler.transform(X_vl)\n",
        "\n",
        "    # Fitting a quick baseline model for now\n",
        "    model = LinearRegression().fit(X_tr_scl, y_tr)\n",
        "    preds = model.predict(X_vl_scl)\n",
        "    print(f\"Fold {fold} — MAE: {mean_absolute_error(y_vl, preds):.3f}\")"
      ],
      "metadata": {
        "colab": {
          "base_uri": "https://localhost:8080/"
        },
        "id": "TyYKba1lMs5j",
        "outputId": "4f7e917a-88bb-49d9-aa03-bf6297129bb2"
      },
      "execution_count": null,
      "outputs": [
        {
          "output_type": "stream",
          "name": "stdout",
          "text": [
            "Fold 1 — MAE: 3.853\n",
            "Fold 2 — MAE: 2.807\n",
            "Fold 3 — MAE: 2.247\n",
            "Fold 4 — MAE: 2.334\n",
            "Fold 5 — MAE: 2.389\n"
          ]
        }
      ]
    },
    {
      "cell_type": "code",
      "source": [
        "scaler_final = StandardScaler().fit(df_trainval[FEATURES])\n",
        "X_tv = scaler_final.transform(df_trainval[FEATURES])\n",
        "y_tv = df_trainval[TARGET]\n",
        "final_model = LinearRegression().fit(X_tv, y_tv)"
      ],
      "metadata": {
        "id": "ErCiMIDBNKv4"
      },
      "execution_count": null,
      "outputs": []
    },
    {
      "cell_type": "code",
      "source": [
        "# Evaluating on the 15%\n",
        "X_te = scaler_final.transform(df_test[FEATURES])\n",
        "y_te = df_test[TARGET]\n",
        "test_mae = mean_absolute_error(y_te, final_model.predict(X_te))\n",
        "print(f\"Final Test MAE: {test_mae:.3f}\")"
      ],
      "metadata": {
        "colab": {
          "base_uri": "https://localhost:8080/"
        },
        "id": "LjuE9KA6Nfsj",
        "outputId": "0a02c476-1cd7-49a5-c330-a34c2387033f"
      },
      "execution_count": null,
      "outputs": [
        {
          "output_type": "stream",
          "name": "stdout",
          "text": [
            "Final Test MAE: 2.296\n"
          ]
        }
      ]
    },
    {
      "cell_type": "code",
      "source": [],
      "metadata": {
        "id": "mCErw6iyNkIh"
      },
      "execution_count": null,
      "outputs": []
    }
  ]
}